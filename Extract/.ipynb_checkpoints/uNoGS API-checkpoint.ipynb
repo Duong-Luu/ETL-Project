{
 "cells": [
  {
   "cell_type": "code",
   "execution_count": 1,
   "metadata": {},
   "outputs": [],
   "source": [
    "import pandas as pd\n",
    "import requests\n",
    "from api_keys import rapid_key\n",
    "import json\n",
    "from pandas.io.json import json_normalize\n",
    "import time\n",
    "import re"
   ]
  },
  {
   "cell_type": "code",
   "execution_count": 2,
   "metadata": {},
   "outputs": [
    {
     "name": "stdout",
     "output_type": "stream",
     "text": [
      "{\"COUNT\":\"0\",\"ITEMS\":[]}\n"
     ]
    }
   ],
   "source": [
    "import requests\n",
    "\n",
    "url = \"https://unogs-unogs-v1.p.rapidapi.com/aaapi.cgi\"\n",
    "\n",
    "querystring = {\"q\":\"get%3Anew7-!1900,2018-!0,5-!0,10-!0-!Any-!Any-!Any-!gt100-!{downloadable}\",\"t\":\"ns\",\"cl\":\"all\",\"st\":\"adv\",\"ob\":\"Relevance\",\"p\":\"1\",\"sa\":\"and\"}\n",
    "\n",
    "headers = {\n",
    "    'x-rapidapi-host': \"unogs-unogs-v1.p.rapidapi.com\",\n",
    "    'x-rapidapi-key': \"9cf9d5abd7mshd693601694489abp167981jsn193458cdc96f\"\n",
    "    }\n",
    "\n",
    "response = requests.request(\"GET\", url, headers=headers, params=querystring)\n",
    "\n",
    "print(response.text)"
   ]
  },
  {
   "cell_type": "code",
   "execution_count": null,
   "metadata": {},
   "outputs": [],
   "source": []
  }
 ],
 "metadata": {
  "kernelspec": {
   "display_name": "Python 3",
   "language": "python",
   "name": "python3"
  },
  "language_info": {
   "codemirror_mode": {
    "name": "ipython",
    "version": 3
   },
   "file_extension": ".py",
   "mimetype": "text/x-python",
   "name": "python",
   "nbconvert_exporter": "python",
   "pygments_lexer": "ipython3",
   "version": "3.7.4"
  }
 },
 "nbformat": 4,
 "nbformat_minor": 2
}
