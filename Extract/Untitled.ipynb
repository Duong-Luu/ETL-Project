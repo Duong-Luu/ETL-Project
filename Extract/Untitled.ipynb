{
 "cells": [
  {
   "cell_type": "code",
   "execution_count": 2,
   "metadata": {},
   "outputs": [],
   "source": [
    "import pandas as pd\n",
    "import requests\n",
    "from api_keys import rapid_key\n",
    "import json\n",
    "from pandas.io.json import json_normalize\n",
    "import time\n",
    "import re"
   ]
  },
  {
   "cell_type": "code",
   "execution_count": 39,
   "metadata": {},
   "outputs": [
    {
     "data": {
      "text/html": [
       "<div>\n",
       "<style scoped>\n",
       "    .dataframe tbody tr th:only-of-type {\n",
       "        vertical-align: middle;\n",
       "    }\n",
       "\n",
       "    .dataframe tbody tr th {\n",
       "        vertical-align: top;\n",
       "    }\n",
       "\n",
       "    .dataframe thead th {\n",
       "        text-align: right;\n",
       "    }\n",
       "</style>\n",
       "<table border=\"1\" class=\"dataframe\">\n",
       "  <thead>\n",
       "    <tr style=\"text-align: right;\">\n",
       "      <th></th>\n",
       "      <th>IMDb Rank</th>\n",
       "      <th>Movie Title</th>\n",
       "      <th>Year Released</th>\n",
       "      <th>IMDb Rating</th>\n",
       "    </tr>\n",
       "  </thead>\n",
       "  <tbody>\n",
       "    <tr>\n",
       "      <td>0</td>\n",
       "      <td>1</td>\n",
       "      <td>The Shawshank Redemption</td>\n",
       "      <td>1994</td>\n",
       "      <td>9.2</td>\n",
       "    </tr>\n",
       "    <tr>\n",
       "      <td>1</td>\n",
       "      <td>2</td>\n",
       "      <td>The Godfather</td>\n",
       "      <td>1972</td>\n",
       "      <td>9.1</td>\n",
       "    </tr>\n",
       "    <tr>\n",
       "      <td>2</td>\n",
       "      <td>3</td>\n",
       "      <td>The Godfather: Part II</td>\n",
       "      <td>1974</td>\n",
       "      <td>9.0</td>\n",
       "    </tr>\n",
       "    <tr>\n",
       "      <td>3</td>\n",
       "      <td>4</td>\n",
       "      <td>The Dark Knight</td>\n",
       "      <td>2008</td>\n",
       "      <td>9.0</td>\n",
       "    </tr>\n",
       "    <tr>\n",
       "      <td>4</td>\n",
       "      <td>5</td>\n",
       "      <td>12 Angry Men</td>\n",
       "      <td>1957</td>\n",
       "      <td>8.9</td>\n",
       "    </tr>\n",
       "  </tbody>\n",
       "</table>\n",
       "</div>"
      ],
      "text/plain": [
       "   IMDb Rank               Movie Title Year Released  IMDb Rating\n",
       "0          1  The Shawshank Redemption          1994          9.2\n",
       "1          2             The Godfather          1972          9.1\n",
       "2          3    The Godfather: Part II          1974          9.0\n",
       "3          4           The Dark Knight          2008          9.0\n",
       "4          5              12 Angry Men          1957          8.9"
      ]
     },
     "execution_count": 39,
     "metadata": {},
     "output_type": "execute_result"
    }
   ],
   "source": [
    "top_250_imdb = pd.read_csv(\"../Output/top_250_imdb.csv\")\n",
    "top_250_imdb.head(5)"
   ]
  },
  {
   "cell_type": "code",
   "execution_count": 61,
   "metadata": {},
   "outputs": [
    {
     "name": "stdout",
     "output_type": "stream",
     "text": [
      "{\"results\": [{\"id\": \"5d914028302b840050acbe62\", \"picture\": \"https://utellyassets9-1.imgix.net/api/Images/4e4d50a0040fd4500193202edbafce6a/Redirect\", \"name\": \"BoJack Horseman\", \"locations\": [{\"icon\": \"https://utellyassets7.imgix.net/locations_icons/utelly/black_new/NetflixIVAUS.png?w=92&auto=compress&app_version=8bc263d1-dd7b-40c0-98cd-f677eb14d81e_e12122020-08-24\", \"display_name\": \"Netflix\", \"name\": \"NetflixIVAUS\", \"id\": \"5d81fe2fd51bef0f42268f0f\", \"url\": \"https://www.netflix.com/title/70298933\"}], \"provider\": \"iva\", \"weight\": 5661, \"external_ids\": {\"iva_rating\": null, \"imdb\": {\"url\": \"https://www.imdb.com/title/tt3398228\", \"id\": \"tt3398228\"}, \"tmdb\": {\"url\": \"https://www.themoviedb.org/tv/61222\", \"id\": \"61222\"}, \"wiki_data\": {\"url\": \"https://www.wikidata.org/wiki/Q17733404\", \"id\": \"Q17733404\"}, \"iva\": {\"id\": \"783721\"}, \"gracenote\": null, \"rotten_tomatoes\": null, \"facebook\": null}}, {\"id\": \"5e2ce07890c0e033a487e3d2\", \"picture\": \"https://utellyassets9-1.imgix.net/api/Images/326d2853ff6885c41b9adb05278017f6/Redirect\", \"name\": \"Dragon Ball Z: Bojack Unbound\", \"locations\": [{\"icon\": \"https://utellyassets7.imgix.net/locations_icons/utelly/black_new/iTunesIVAUS.png?w=92&auto=compress&app_version=8bc263d1-dd7b-40c0-98cd-f677eb14d81e_e12122020-08-24\", \"display_name\": \"iTunes\", \"name\": \"iTunesIVAUS\", \"id\": \"5d80a9a5d51bef861d3740d3\", \"url\": \"https://itunes.apple.com/us/movie/dragon-ball-z-bojack-unbound-subtitled-original-version/id1381102560\"}], \"provider\": \"iva\", \"weight\": 0, \"external_ids\": {\"iva_rating\": null, \"imdb\": {\"url\": \"https://www.imdb.com/title/tt0142238\", \"id\": \"tt0142238\"}, \"tmdb\": {\"url\": \"https://www.themoviedb.org/movie/39105\", \"id\": \"39105\"}, \"wiki_data\": {\"url\": \"https://www.wikidata.org/wiki/Q1255010\", \"id\": \"Q1255010\"}, \"iva\": {\"id\": \"406043\"}, \"gracenote\": null, \"rotten_tomatoes\": null, \"facebook\": null}}], \"updated\": \"2020-08-24T05:09:18+0100\", \"term\": \"BOJACK\", \"status_code\": 200, \"variant\": \"ivafull\"}\n"
     ]
    }
   ],
   "source": [
    "url = \"https://utelly-tv-shows-and-movies-availability-v1.p.rapidapi.com/lookup\"\n",
    "\n",
    "querystring = {\"term\":\"BOJACK\",\"country\":\"us\"}\n",
    "\n",
    "headers = {\n",
    "    'x-rapidapi-host': \"utelly-tv-shows-and-movies-availability-v1.p.rapidapi.com\",\n",
    "    'x-rapidapi-key': rapid_key\n",
    "    }\n",
    "\n",
    "response = requests.request(\"GET\", url, headers=headers, params=querystring)\n",
    "\n",
    "print(response.text)"
   ]
  },
  {
   "cell_type": "code",
   "execution_count": 62,
   "metadata": {},
   "outputs": [],
   "source": [
    "a = response.json()"
   ]
  },
  {
   "cell_type": "code",
   "execution_count": 63,
   "metadata": {
    "scrolled": true
   },
   "outputs": [
    {
     "name": "stdout",
     "output_type": "stream",
     "text": [
      "{\n",
      "    \"results\": [\n",
      "        {\n",
      "            \"id\": \"5d914028302b840050acbe62\",\n",
      "            \"picture\": \"https://utellyassets9-1.imgix.net/api/Images/4e4d50a0040fd4500193202edbafce6a/Redirect\",\n",
      "            \"name\": \"BoJack Horseman\",\n",
      "            \"locations\": [\n",
      "                {\n",
      "                    \"icon\": \"https://utellyassets7.imgix.net/locations_icons/utelly/black_new/NetflixIVAUS.png?w=92&auto=compress&app_version=8bc263d1-dd7b-40c0-98cd-f677eb14d81e_e12122020-08-24\",\n",
      "                    \"display_name\": \"Netflix\",\n",
      "                    \"name\": \"NetflixIVAUS\",\n",
      "                    \"id\": \"5d81fe2fd51bef0f42268f0f\",\n",
      "                    \"url\": \"https://www.netflix.com/title/70298933\"\n",
      "                }\n",
      "            ],\n",
      "            \"provider\": \"iva\",\n",
      "            \"weight\": 5661,\n",
      "            \"external_ids\": {\n",
      "                \"iva_rating\": null,\n",
      "                \"imdb\": {\n",
      "                    \"url\": \"https://www.imdb.com/title/tt3398228\",\n",
      "                    \"id\": \"tt3398228\"\n",
      "                },\n",
      "                \"tmdb\": {\n",
      "                    \"url\": \"https://www.themoviedb.org/tv/61222\",\n",
      "                    \"id\": \"61222\"\n",
      "                },\n",
      "                \"wiki_data\": {\n",
      "                    \"url\": \"https://www.wikidata.org/wiki/Q17733404\",\n",
      "                    \"id\": \"Q17733404\"\n",
      "                },\n",
      "                \"iva\": {\n",
      "                    \"id\": \"783721\"\n",
      "                },\n",
      "                \"gracenote\": null,\n",
      "                \"rotten_tomatoes\": null,\n",
      "                \"facebook\": null\n",
      "            }\n",
      "        },\n",
      "        {\n",
      "            \"id\": \"5e2ce07890c0e033a487e3d2\",\n",
      "            \"picture\": \"https://utellyassets9-1.imgix.net/api/Images/326d2853ff6885c41b9adb05278017f6/Redirect\",\n",
      "            \"name\": \"Dragon Ball Z: Bojack Unbound\",\n",
      "            \"locations\": [\n",
      "                {\n",
      "                    \"icon\": \"https://utellyassets7.imgix.net/locations_icons/utelly/black_new/iTunesIVAUS.png?w=92&auto=compress&app_version=8bc263d1-dd7b-40c0-98cd-f677eb14d81e_e12122020-08-24\",\n",
      "                    \"display_name\": \"iTunes\",\n",
      "                    \"name\": \"iTunesIVAUS\",\n",
      "                    \"id\": \"5d80a9a5d51bef861d3740d3\",\n",
      "                    \"url\": \"https://itunes.apple.com/us/movie/dragon-ball-z-bojack-unbound-subtitled-original-version/id1381102560\"\n",
      "                }\n",
      "            ],\n",
      "            \"provider\": \"iva\",\n",
      "            \"weight\": 0,\n",
      "            \"external_ids\": {\n",
      "                \"iva_rating\": null,\n",
      "                \"imdb\": {\n",
      "                    \"url\": \"https://www.imdb.com/title/tt0142238\",\n",
      "                    \"id\": \"tt0142238\"\n",
      "                },\n",
      "                \"tmdb\": {\n",
      "                    \"url\": \"https://www.themoviedb.org/movie/39105\",\n",
      "                    \"id\": \"39105\"\n",
      "                },\n",
      "                \"wiki_data\": {\n",
      "                    \"url\": \"https://www.wikidata.org/wiki/Q1255010\",\n",
      "                    \"id\": \"Q1255010\"\n",
      "                },\n",
      "                \"iva\": {\n",
      "                    \"id\": \"406043\"\n",
      "                },\n",
      "                \"gracenote\": null,\n",
      "                \"rotten_tomatoes\": null,\n",
      "                \"facebook\": null\n",
      "            }\n",
      "        }\n",
      "    ],\n",
      "    \"updated\": \"2020-08-24T05:09:18+0100\",\n",
      "    \"term\": \"BOJACK\",\n",
      "    \"status_code\": 200,\n",
      "    \"variant\": \"ivafull\"\n",
      "}\n"
     ]
    }
   ],
   "source": [
    "print(json.dumps(a, indent=4))"
   ]
  },
  {
   "cell_type": "code",
   "execution_count": 81,
   "metadata": {},
   "outputs": [
    {
     "data": {
      "text/plain": [
       "{'id': '5d914028302b840050acbe62',\n",
       " 'picture': 'https://utellyassets9-1.imgix.net/api/Images/4e4d50a0040fd4500193202edbafce6a/Redirect',\n",
       " 'name': 'BoJack Horseman',\n",
       " 'locations': [{'icon': 'https://utellyassets7.imgix.net/locations_icons/utelly/black_new/NetflixIVAUS.png?w=92&auto=compress&app_version=8bc263d1-dd7b-40c0-98cd-f677eb14d81e_e12122020-08-24',\n",
       "   'display_name': 'Netflix',\n",
       "   'name': 'NetflixIVAUS',\n",
       "   'id': '5d81fe2fd51bef0f42268f0f',\n",
       "   'url': 'https://www.netflix.com/title/70298933'}],\n",
       " 'provider': 'iva',\n",
       " 'weight': 5661,\n",
       " 'external_ids': {'iva_rating': None,\n",
       "  'imdb': {'url': 'https://www.imdb.com/title/tt3398228', 'id': 'tt3398228'},\n",
       "  'tmdb': {'url': 'https://www.themoviedb.org/tv/61222', 'id': '61222'},\n",
       "  'wiki_data': {'url': 'https://www.wikidata.org/wiki/Q17733404',\n",
       "   'id': 'Q17733404'},\n",
       "  'iva': {'id': '783721'},\n",
       "  'gracenote': None,\n",
       "  'rotten_tomatoes': None,\n",
       "  'facebook': None}}"
      ]
     },
     "execution_count": 81,
     "metadata": {},
     "output_type": "execute_result"
    }
   ],
   "source": [
    "a['results'][0]"
   ]
  },
  {
   "cell_type": "code",
   "execution_count": 90,
   "metadata": {},
   "outputs": [
    {
     "name": "stdout",
     "output_type": "stream",
     "text": [
      "Netflix\n",
      "iTunes\n"
     ]
    }
   ],
   "source": [
    "for result in a['results']:\n",
    "    print(result['locations'][0]['display_name'])"
   ]
  },
  {
   "cell_type": "code",
   "execution_count": 93,
   "metadata": {},
   "outputs": [
    {
     "name": "stdout",
     "output_type": "stream",
     "text": [
      "tt3398228\n",
      "tt0142238\n"
     ]
    }
   ],
   "source": [
    "for result in a['results']:\n",
    "    print(result['external_ids']['imdb']['id'])"
   ]
  },
  {
   "cell_type": "code",
   "execution_count": 25,
   "metadata": {},
   "outputs": [],
   "source": [
    "url = \"https://utelly-tv-shows-and-movies-availability-v1.p.rapidapi.com/idlookup\"\n",
    "\n",
    "querystring = {\"country\":\"US\",\"source\":\"imdb\"}\n",
    "\n",
    "headers = {\n",
    "    'x-rapidapi-host': \"utelly-tv-shows-and-movies-availability-v1.p.rapidapi.com\",\n",
    "    'x-rapidapi-key': rapid_key\n",
    "    }"
   ]
  },
  {
   "cell_type": "code",
   "execution_count": 26,
   "metadata": {},
   "outputs": [],
   "source": [
    "response = requests.request(\"GET\", url, headers=headers, params=querystring)"
   ]
  },
  {
   "cell_type": "code",
   "execution_count": 27,
   "metadata": {},
   "outputs": [],
   "source": [
    "json_result = response.json()"
   ]
  },
  {
   "cell_type": "code",
   "execution_count": 28,
   "metadata": {},
   "outputs": [
    {
     "data": {
      "text/plain": [
       "{'sub_code': 422,\n",
       " 'message': 'you must include a source and source_id',\n",
       " 'status_code': 400}"
      ]
     },
     "execution_count": 28,
     "metadata": {},
     "output_type": "execute_result"
    }
   ],
   "source": [
    "json_result"
   ]
  },
  {
   "cell_type": "code",
   "execution_count": 29,
   "metadata": {},
   "outputs": [],
   "source": [
    "id_imdb_list_sample = ['tt0111161', 'tt0068646', 'tt0071562']"
   ]
  },
  {
   "cell_type": "code",
   "execution_count": 31,
   "metadata": {},
   "outputs": [
    {
     "name": "stdout",
     "output_type": "stream",
     "text": [
      "Data Not Available\n",
      "tt0111161\n",
      "\n",
      "\n",
      "Data Not Available\n",
      "tt0068646\n",
      "\n",
      "\n",
      "Data Not Available\n",
      "tt0071562\n",
      "\n",
      "\n"
     ]
    }
   ],
   "source": [
    "\n",
    "imdb_id = []\n",
    "title = []\n",
    "streaming_service = []\n",
    "streaming_url = []\n",
    "all_requests_json = []\n",
    "\n",
    "for id_imdb in id_imdb_list_sample:\n",
    "    time.sleep(2)\n",
    "    querystring[\"source_id\"] = id_imdb\n",
    "    \n",
    "    try:\n",
    "        response = requests.request(\"GET\", url, headers=headers, params=querystring)\n",
    "\n",
    "        json_result = response.json()\n",
    "        all_requests_json.append(json_result)\n",
    "\n",
    "        for location in json_result['collection']['locations']:\n",
    "            imdb_id.append(json_result['id'])\n",
    "            title.append(json_result['collection']['name'])\n",
    "            streaming_service.append(location['display_name'])\n",
    "            streaming_url.append(location['url'])\n",
    "        \n",
    "    except:\n",
    "        print('Data Not Available')\n",
    "        print(id_imdb)\n",
    "        print('\\n')"
   ]
  },
  {
   "cell_type": "code",
   "execution_count": null,
   "metadata": {},
   "outputs": [],
   "source": []
  }
 ],
 "metadata": {
  "kernelspec": {
   "display_name": "Python 3",
   "language": "python",
   "name": "python3"
  },
  "language_info": {
   "codemirror_mode": {
    "name": "ipython",
    "version": 3
   },
   "file_extension": ".py",
   "mimetype": "text/x-python",
   "name": "python",
   "nbconvert_exporter": "python",
   "pygments_lexer": "ipython3",
   "version": "3.7.4"
  }
 },
 "nbformat": 4,
 "nbformat_minor": 2
}
